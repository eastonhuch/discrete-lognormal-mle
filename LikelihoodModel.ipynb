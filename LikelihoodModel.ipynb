{
 "cells": [
  {
   "cell_type": "code",
   "execution_count": 446,
   "id": "552c9f4f-2d34-4e8a-ab05-7adc16c964b6",
   "metadata": {},
   "outputs": [],
   "source": [
    "import pandas as pd\n",
    "import numpy as np\n",
    "from scipy import stats\n",
    "from utils import generate_data\n",
    "import matplotlib.pyplot as plt\n",
    "import statsmodels.api as sm\n",
    "from statsmodels.base.model import GenericLikelihoodModel\n",
    "plt.rcParams[\"figure.figsize\"] = (12,6)"
   ]
  },
  {
   "cell_type": "code",
   "execution_count": 2,
   "id": "dbdb0a23-deda-4aef-8c8e-1a013baf5b0d",
   "metadata": {},
   "outputs": [],
   "source": [
    "np.random.seed(1)\n",
    "data = generate_data()"
   ]
  },
  {
   "cell_type": "code",
   "execution_count": 3,
   "id": "056b6b86-fb1e-4aac-ad31-7c0cceceef0b",
   "metadata": {},
   "outputs": [
    {
     "data": {
      "text/html": [
       "<div>\n",
       "<style scoped>\n",
       "    .dataframe tbody tr th:only-of-type {\n",
       "        vertical-align: middle;\n",
       "    }\n",
       "\n",
       "    .dataframe tbody tr th {\n",
       "        vertical-align: top;\n",
       "    }\n",
       "\n",
       "    .dataframe thead th {\n",
       "        text-align: right;\n",
       "    }\n",
       "</style>\n",
       "<table border=\"1\" class=\"dataframe\">\n",
       "  <thead>\n",
       "    <tr style=\"text-align: right;\">\n",
       "      <th></th>\n",
       "      <th>intercept</th>\n",
       "      <th>days_since_start</th>\n",
       "      <th>days_since_start_squared</th>\n",
       "      <th>day_of_week_1</th>\n",
       "      <th>day_of_week_2</th>\n",
       "      <th>day_of_week_3</th>\n",
       "      <th>day_of_week_4</th>\n",
       "      <th>day_of_week_5</th>\n",
       "      <th>day_of_week_6</th>\n",
       "      <th>seasonality_cos</th>\n",
       "      <th>seasonality_sin</th>\n",
       "    </tr>\n",
       "  </thead>\n",
       "  <tbody>\n",
       "    <tr>\n",
       "      <th>0</th>\n",
       "      <td>1.0</td>\n",
       "      <td>-1.729679</td>\n",
       "      <td>2.228932</td>\n",
       "      <td>0</td>\n",
       "      <td>0</td>\n",
       "      <td>0</td>\n",
       "      <td>0</td>\n",
       "      <td>0</td>\n",
       "      <td>1</td>\n",
       "      <td>0.999852</td>\n",
       "      <td>0.017213</td>\n",
       "    </tr>\n",
       "    <tr>\n",
       "      <th>1</th>\n",
       "      <td>1.0</td>\n",
       "      <td>-1.726517</td>\n",
       "      <td>2.216707</td>\n",
       "      <td>0</td>\n",
       "      <td>0</td>\n",
       "      <td>0</td>\n",
       "      <td>0</td>\n",
       "      <td>0</td>\n",
       "      <td>0</td>\n",
       "      <td>0.999407</td>\n",
       "      <td>0.034422</td>\n",
       "    </tr>\n",
       "    <tr>\n",
       "      <th>2</th>\n",
       "      <td>1.0</td>\n",
       "      <td>-1.723355</td>\n",
       "      <td>2.204505</td>\n",
       "      <td>1</td>\n",
       "      <td>0</td>\n",
       "      <td>0</td>\n",
       "      <td>0</td>\n",
       "      <td>0</td>\n",
       "      <td>0</td>\n",
       "      <td>0.998667</td>\n",
       "      <td>0.051620</td>\n",
       "    </tr>\n",
       "    <tr>\n",
       "      <th>3</th>\n",
       "      <td>1.0</td>\n",
       "      <td>-1.720193</td>\n",
       "      <td>2.192325</td>\n",
       "      <td>0</td>\n",
       "      <td>1</td>\n",
       "      <td>0</td>\n",
       "      <td>0</td>\n",
       "      <td>0</td>\n",
       "      <td>0</td>\n",
       "      <td>0.997630</td>\n",
       "      <td>0.068802</td>\n",
       "    </tr>\n",
       "    <tr>\n",
       "      <th>4</th>\n",
       "      <td>1.0</td>\n",
       "      <td>-1.717031</td>\n",
       "      <td>2.180168</td>\n",
       "      <td>0</td>\n",
       "      <td>0</td>\n",
       "      <td>1</td>\n",
       "      <td>0</td>\n",
       "      <td>0</td>\n",
       "      <td>0</td>\n",
       "      <td>0.996298</td>\n",
       "      <td>0.085965</td>\n",
       "    </tr>\n",
       "  </tbody>\n",
       "</table>\n",
       "</div>"
      ],
      "text/plain": [
       "   intercept  days_since_start  days_since_start_squared  day_of_week_1  \\\n",
       "0        1.0         -1.729679                  2.228932              0   \n",
       "1        1.0         -1.726517                  2.216707              0   \n",
       "2        1.0         -1.723355                  2.204505              1   \n",
       "3        1.0         -1.720193                  2.192325              0   \n",
       "4        1.0         -1.717031                  2.180168              0   \n",
       "\n",
       "   day_of_week_2  day_of_week_3  day_of_week_4  day_of_week_5  day_of_week_6  \\\n",
       "0              0              0              0              0              1   \n",
       "1              0              0              0              0              0   \n",
       "2              0              0              0              0              0   \n",
       "3              1              0              0              0              0   \n",
       "4              0              1              0              0              0   \n",
       "\n",
       "   seasonality_cos  seasonality_sin  \n",
       "0         0.999852         0.017213  \n",
       "1         0.999407         0.034422  \n",
       "2         0.998667         0.051620  \n",
       "3         0.997630         0.068802  \n",
       "4         0.996298         0.085965  "
      ]
     },
     "execution_count": 3,
     "metadata": {},
     "output_type": "execute_result"
    }
   ],
   "source": [
    "data.x_df.head()\n",
    "# days since start is z normalized"
   ]
  },
  {
   "cell_type": "code",
   "execution_count": 25,
   "id": "7aa5b237-d566-4781-a50b-a2ab861348dc",
   "metadata": {},
   "outputs": [],
   "source": [
    "gpois_mdl = sm.GeneralizedPoisson(data.y, data.x_df)"
   ]
  },
  {
   "cell_type": "code",
   "execution_count": 26,
   "id": "71316fd4-27e3-49c3-ba2f-7cc22c217c65",
   "metadata": {},
   "outputs": [
    {
     "name": "stdout",
     "output_type": "stream",
     "text": [
      "Optimization terminated successfully.\n",
      "         Current function value: 6.042689\n",
      "         Iterations: 20\n",
      "         Function evaluations: 23\n",
      "         Gradient evaluations: 23\n"
     ]
    }
   ],
   "source": [
    "gpois_res = gpois_mdl.fit()"
   ]
  },
  {
   "cell_type": "code",
   "execution_count": 27,
   "id": "327af9b7-9a64-4f5f-9a67-62186824d106",
   "metadata": {},
   "outputs": [
    {
     "name": "stdout",
     "output_type": "stream",
     "text": [
      "                       Results: GeneralizedPoisson\n",
      "=========================================================================\n",
      "Model:                 GeneralizedPoisson  Pseudo R-squared:  0.046      \n",
      "Dependent Variable:    y                   AIC:               13257.4897 \n",
      "Date:                  2022-03-31 14:57    BIC:               13317.4718 \n",
      "No. Observations:      1095                Log-Likelihood:    -6616.7    \n",
      "Df Model:              10                  LL-Null:           -6938.4    \n",
      "Df Residuals:          1084                LLR p-value:       9.1750e-132\n",
      "Converged:             1.0000              Scale:             1.0000     \n",
      "-------------------------------------------------------------------------\n",
      "                          Coef.  Std.Err.    z     P>|z|   [0.025  0.975]\n",
      "-------------------------------------------------------------------------\n",
      "intercept                 5.2691   0.0390 135.0435 0.0000  5.1927  5.3456\n",
      "days_since_start          0.3443   0.0149  23.0411 0.0000  0.3150  0.3736\n",
      "days_since_start_squared -0.1218   0.0140  -8.7024 0.0000 -0.1493 -0.0944\n",
      "day_of_week_1             0.1972   0.0513   3.8433 0.0001  0.0966  0.2978\n",
      "day_of_week_2             0.1864   0.0517   3.6085 0.0003  0.0852  0.2876\n",
      "day_of_week_3             0.2741   0.0509   5.3840 0.0000  0.1743  0.3738\n",
      "day_of_week_4             0.2891   0.0509   5.6839 0.0000  0.1894  0.3887\n",
      "day_of_week_5             0.1664   0.0516   3.2239 0.0013  0.0652  0.2675\n",
      "day_of_week_6             0.0225   0.0527   0.4267 0.6696 -0.0809  0.1259\n",
      "seasonality_cos           0.1196   0.0190   6.2817 0.0000  0.0823  0.1569\n",
      "seasonality_sin          -0.0527   0.0199  -2.6504 0.0080 -0.0917 -0.0137\n",
      "alpha                     7.2742   0.2190  33.2124 0.0000  6.8449  7.7035\n",
      "=========================================================================\n",
      "\n"
     ]
    }
   ],
   "source": [
    "print(gpois_res.summary2())"
   ]
  },
  {
   "cell_type": "code",
   "execution_count": 456,
   "id": "1ade14fa-1175-4ab9-9bbb-0bdf3e029ac7",
   "metadata": {},
   "outputs": [
    {
     "data": {
      "text/html": [
       "<table class=\"simpletable\">\n",
       "<caption>GeneralizedPoisson Marginal Effects</caption>\n",
       "<tr>\n",
       "  <th>Dep. Variable:</th>    <td>y</td>   \n",
       "</tr>\n",
       "<tr>\n",
       "  <th>Method:</th>         <td>dydx</td>  \n",
       "</tr>\n",
       "<tr>\n",
       "  <th>At:</th>            <td>overall</td>\n",
       "</tr>\n",
       "</table>\n",
       "<table class=\"simpletable\">\n",
       "<tr>\n",
       "              <th></th>                <th>dy/dx</th>    <th>std err</th>      <th>z</th>      <th>P>|z|</th>  <th>[0.025</th>    <th>0.975]</th>  \n",
       "</tr>\n",
       "<tr>\n",
       "  <th>days_since_start</th>         <td>   84.4801</td> <td>    3.907</td> <td>   21.625</td> <td> 0.000</td> <td>   76.823</td> <td>   92.137</td>\n",
       "</tr>\n",
       "<tr>\n",
       "  <th>days_since_start_squared</th> <td>  -29.8891</td> <td>    3.468</td> <td>   -8.620</td> <td> 0.000</td> <td>  -36.685</td> <td>  -23.093</td>\n",
       "</tr>\n",
       "<tr>\n",
       "  <th>day_of_week_1</th>            <td>   48.3888</td> <td>   12.614</td> <td>    3.836</td> <td> 0.000</td> <td>   23.665</td> <td>   73.112</td>\n",
       "</tr>\n",
       "<tr>\n",
       "  <th>day_of_week_2</th>            <td>   45.7302</td> <td>   12.694</td> <td>    3.603</td> <td> 0.000</td> <td>   20.851</td> <td>   70.609</td>\n",
       "</tr>\n",
       "<tr>\n",
       "  <th>day_of_week_3</th>            <td>   67.2364</td> <td>   12.534</td> <td>    5.364</td> <td> 0.000</td> <td>   42.670</td> <td>   91.803</td>\n",
       "</tr>\n",
       "<tr>\n",
       "  <th>day_of_week_4</th>            <td>   70.9190</td> <td>   12.528</td> <td>    5.661</td> <td> 0.000</td> <td>   46.364</td> <td>   95.474</td>\n",
       "</tr>\n",
       "<tr>\n",
       "  <th>day_of_week_5</th>            <td>   40.8195</td> <td>   12.678</td> <td>    3.220</td> <td> 0.001</td> <td>   15.971</td> <td>   65.668</td>\n",
       "</tr>\n",
       "<tr>\n",
       "  <th>day_of_week_6</th>            <td>    5.5204</td> <td>   12.938</td> <td>    0.427</td> <td> 0.670</td> <td>  -19.838</td> <td>   30.879</td>\n",
       "</tr>\n",
       "<tr>\n",
       "  <th>seasonality_cos</th>          <td>   29.3383</td> <td>    4.694</td> <td>    6.250</td> <td> 0.000</td> <td>   20.138</td> <td>   38.538</td>\n",
       "</tr>\n",
       "<tr>\n",
       "  <th>seasonality_sin</th>          <td>  -12.9319</td> <td>    4.884</td> <td>   -2.648</td> <td> 0.008</td> <td>  -22.504</td> <td>   -3.360</td>\n",
       "</tr>\n",
       "</table>"
      ],
      "text/plain": [
       "<class 'statsmodels.iolib.summary.Summary'>\n",
       "\"\"\"\n",
       " GeneralizedPoisson Marginal Effects \n",
       "=====================================\n",
       "Dep. Variable:                      y\n",
       "Method:                          dydx\n",
       "At:                           overall\n",
       "============================================================================================\n",
       "                              dy/dx    std err          z      P>|z|      [0.025      0.975]\n",
       "--------------------------------------------------------------------------------------------\n",
       "days_since_start            84.4801      3.907     21.625      0.000      76.823      92.137\n",
       "days_since_start_squared   -29.8891      3.468     -8.620      0.000     -36.685     -23.093\n",
       "day_of_week_1               48.3888     12.614      3.836      0.000      23.665      73.112\n",
       "day_of_week_2               45.7302     12.694      3.603      0.000      20.851      70.609\n",
       "day_of_week_3               67.2364     12.534      5.364      0.000      42.670      91.803\n",
       "day_of_week_4               70.9190     12.528      5.661      0.000      46.364      95.474\n",
       "day_of_week_5               40.8195     12.678      3.220      0.001      15.971      65.668\n",
       "day_of_week_6                5.5204     12.938      0.427      0.670     -19.838      30.879\n",
       "seasonality_cos             29.3383      4.694      6.250      0.000      20.138      38.538\n",
       "seasonality_sin            -12.9319      4.884     -2.648      0.008     -22.504      -3.360\n",
       "============================================================================================\n",
       "\"\"\""
      ]
     },
     "execution_count": 456,
     "metadata": {},
     "output_type": "execute_result"
    }
   ],
   "source": [
    "# Marginal effects\n",
    "me = gpois_res.get_margeff(method='dydx')\n",
    "me.summary()"
   ]
  },
  {
   "cell_type": "markdown",
   "id": "f575101f-9321-4dbb-87ca-480d3ddabfd6",
   "metadata": {},
   "source": [
    "## Extend Generic Likelihood Model"
   ]
  },
  {
   "cell_type": "code",
   "execution_count": 173,
   "id": "8a77353f-b154-45db-b10d-7135652f01ba",
   "metadata": {},
   "outputs": [],
   "source": [
    "def _ll_latentnorm(y, X, beta, alph):\n",
    "    mu = (np.dot(X, beta)) # Should we exponentiate this??\n",
    "    sigma = np.exp(np.dot(X, alph))\n",
    "    Phi_bar = stats.norm(mu, sigma).cdf(np.log1p(y))\n",
    "    Phi_underbar = stats.norm(mu, sigma).cdf(np.log(y))\n",
    "    ll = np.log(Phi_bar - Phi_underbar)\n",
    "    #print(Phi_bar.sum())\n",
    "    #print(Phi_underbar.sum())\n",
    "    #print(ll.sum())\n",
    "    return ll\n",
    "\n",
    "def _gradutils(y, X, beta, alph):\n",
    "    mu = (np.dot(X, beta)) # Should we exponentiate this??\n",
    "    sigma = np.exp(np.dot(X, alph))\n",
    "\n",
    "    z_bar = (np.log1p(y) - mu) / sigma \n",
    "    z_underbar = (np.log(y) - mu) / sigma\n",
    "\n",
    "    Phi_bar = stats.norm.cdf(z_bar)\n",
    "    Phi_underbar = stats.norm.cdf(z_underbar)\n",
    "    Phi  = Phi_bar - Phi_underbar\n",
    "\n",
    "    phi_bar = stats.norm.pdf(z_bar)\n",
    "    phi_underbar = stats.norm.pdf(z_underbar)\n",
    "    phi = phi_bar - phi_underbar\n",
    "    \n",
    "    kappa_0 = phi / Phi\n",
    "    kappa_1 = (z_bar * phi_bar - z_underbar * phi_underbar) / Phi\n",
    "    kappa_2 = (z_bar**2 * phi_bar - z_underbar**2 * phi_underbar) / Phi\n",
    "    kappa_3 = (z_bar**3 * phi_bar - z_underbar**3 * phi_underbar) / Phi\n",
    "    \n",
    "    return kappa_0, kappa_1, kappa_2, kappa_3, mu, sigma\n",
    "    \n",
    "def _vec_matrix_multiply(a, B):\n",
    "    return np.apply_along_axis(lambda x: x * a, 0, B)"
   ]
  },
  {
   "cell_type": "code",
   "execution_count": 474,
   "id": "610c86ae-73a3-44b8-8464-213ecdd8db55",
   "metadata": {},
   "outputs": [],
   "source": [
    "class MyLatentNormal(GenericLikelihoodModel):\n",
    "    def __init__(self, endog, exog, **kwds):\n",
    "        super(MyLatentNormal, self).__init__(endog, exog, **kwds)\n",
    "        self.nparams = 22\n",
    "        \n",
    "    def nloglikeobs(self, params):\n",
    "        exog = self.exog\n",
    "        endog = self.endog\n",
    "        beta = params[:11] #first 11 are for mu\n",
    "        alph = params[11:] #last 11 are for sigma\n",
    "        ll = _ll_latentnorm(endog, exog, beta, alph)\n",
    "        params_alt = params.copy()\n",
    "        params_alt[0] = 0.\n",
    "#         params_alt[11] = 0.\n",
    "        return -ll - self.penalty*np.sum(params_alt**2)/self.endog.size\n",
    "    \n",
    "    def score(self, params):\n",
    "        y = self.endog\n",
    "        X = self.exog\n",
    "        beta = params[:11] #first 11 are for mu\n",
    "        alph = params[11:] #last 11 are for sigma\n",
    "        \n",
    "        kappa_0, kappa_1, kappa_2, kappa_3, mu, sigma = _gradutils(y, X, beta, alph)\n",
    "        \n",
    "        beta_alt = beta.copy()\n",
    "        beta_alt[0] = 0\n",
    "        alph_alt = alph.copy()\n",
    "#         alph_alt[0] = 0.\n",
    "        \n",
    "        grad_beta = -(kappa_0 / sigma) @ X - penalty*2 * beta_alt\n",
    "        grad_alph = -kappa_1 @ X - self.penalty*2 * alph_alt\n",
    "        \n",
    "        return np.append(grad_beta, grad_alph)\n",
    "    \n",
    "    def hessian(self, params):\n",
    "        y = self.endog\n",
    "        X = self.exog\n",
    "        beta = params[:11] #first 11 are for mu\n",
    "        alph = params[11:] #last 11 are for sigma\n",
    "        \n",
    "        kappa_0, kappa_1, kappa_2, kappa_3, mu, sigma = _gradutils(y, X, beta, alph)\n",
    "        \n",
    "        #xx = np.einsum('ij,ij-> i', X, X) # row-wise dot product?\n",
    "        k_beta = (kappa_0**2 + kappa_1) / sigma**2\n",
    "        k_alph = kappa_1 * (kappa_1 - 1) + kappa_3\n",
    "        k_beta_alph = (kappa_2 + kappa_0*(kappa_1 - 1)) / sigma\n",
    "        H_beta = np.zeros([11, 11])\n",
    "        H_alph = np.zeros([11, 11])\n",
    "        H_beta_alph = np.zeros([11, 11])\n",
    "                  \n",
    "        for i in range(X.shape[0]):\n",
    "            x = X[i]\n",
    "            xxT = np.outer(x, x)\n",
    "            H_beta -= k_beta[i] * xxT\n",
    "            H_alph -= k_alph[i] * xxT\n",
    "            H_beta_alph -= k_beta_alph[i] * xxT\n",
    "        \n",
    "        H_all = np.block([[H_beta, H_beta_alph], [H_beta_alph.T, H_alph]]) # 22 x 22\n",
    "        penalty_matrix = self.penalty*2 * np.eye(22)\n",
    "        penalty_matrix[0, 0] = 0.\n",
    "#         penalty_matrix[11, 11] = 0.\n",
    "\n",
    "        return H_all - penalty_matrix\n",
    "    \n",
    "    def predict(self, params, exog=None, n=1000):\n",
    "        if exog is None:\n",
    "            X = self.exog\n",
    "        beta = params[:11] #first 11 are for mu\n",
    "        alph = params[11:] #last 11 are for sigma\n",
    "        mu = (np.dot(X, beta))\n",
    "        sigma = np.exp(np.dot(X, alph))\n",
    "        Z = stats.norm(mu,sigma).rvs(size = (n, self.endog.size))\n",
    "        Y_hat = np.floor(np.exp(Z)).mean(axis=0)\n",
    "        return Y_hat\n",
    "    \n",
    "    def mse(self):\n",
    "        print(\"test\")\n",
    "        \n",
    "    \n",
    "    def fit(self, start_params=None, maxiter=10000, maxfun=5000, penalty=1., **kwds):\n",
    "        self.penalty = penalty\n",
    "        #print(self.penalty)\n",
    "        if start_params is None:\n",
    "            # Reasonable starting values\n",
    "            start_params = np.zeros(self.nparams)\n",
    "            start_params[0] = np.log(np.mean(self.endog)) # beta\n",
    "        return super(MyLatentNormal, self).fit(start_params=start_params,\n",
    "                                     maxiter=maxiter, maxfun=maxfun,\n",
    "                                     **kwds)"
   ]
  },
  {
   "cell_type": "code",
   "execution_count": 475,
   "id": "c6f973da-0a98-4140-8646-cb61670ac396",
   "metadata": {},
   "outputs": [],
   "source": [
    "names = list(data.x_df)\n",
    "names_alpha = [s + \"_alpha\" for s in names]"
   ]
  },
  {
   "cell_type": "code",
   "execution_count": 476,
   "id": "97fe20d4-dda8-4612-9b89-d2734d05e061",
   "metadata": {},
   "outputs": [],
   "source": [
    "mod = MyLatentNormal(data.y, data.x_df, extra_params_names=names_alpha)"
   ]
  },
  {
   "cell_type": "code",
   "execution_count": 478,
   "id": "5c2486e0-d829-471b-b905-b2d1323d7fc3",
   "metadata": {},
   "outputs": [
    {
     "name": "stdout",
     "output_type": "stream",
     "text": [
      "Optimization terminated successfully.\n",
      "         Current function value: 5.927334\n",
      "         Iterations: 10\n",
      "         Function evaluations: 19\n",
      "         Gradient evaluations: 17\n",
      "         Hessian evaluations: 10\n"
     ]
    },
    {
     "name": "stderr",
     "output_type": "stream",
     "text": [
      "<ipython-input-173-8b762fec5c2c>:6: RuntimeWarning: divide by zero encountered in log\n",
      "  ll = np.log(Phi_bar - Phi_underbar)\n",
      "<ipython-input-173-8b762fec5c2c>:27: RuntimeWarning: divide by zero encountered in true_divide\n",
      "  kappa_0 = phi / Phi\n",
      "<ipython-input-173-8b762fec5c2c>:27: RuntimeWarning: invalid value encountered in true_divide\n",
      "  kappa_0 = phi / Phi\n",
      "<ipython-input-173-8b762fec5c2c>:28: RuntimeWarning: divide by zero encountered in true_divide\n",
      "  kappa_1 = (z_bar * phi_bar - z_underbar * phi_underbar) / Phi\n",
      "<ipython-input-173-8b762fec5c2c>:28: RuntimeWarning: invalid value encountered in true_divide\n",
      "  kappa_1 = (z_bar * phi_bar - z_underbar * phi_underbar) / Phi\n",
      "<ipython-input-173-8b762fec5c2c>:29: RuntimeWarning: divide by zero encountered in true_divide\n",
      "  kappa_2 = (z_bar**2 * phi_bar - z_underbar**2 * phi_underbar) / Phi\n",
      "<ipython-input-173-8b762fec5c2c>:29: RuntimeWarning: invalid value encountered in true_divide\n",
      "  kappa_2 = (z_bar**2 * phi_bar - z_underbar**2 * phi_underbar) / Phi\n",
      "<ipython-input-173-8b762fec5c2c>:30: RuntimeWarning: divide by zero encountered in true_divide\n",
      "  kappa_3 = (z_bar**3 * phi_bar - z_underbar**3 * phi_underbar) / Phi\n",
      "<ipython-input-173-8b762fec5c2c>:30: RuntimeWarning: invalid value encountered in true_divide\n",
      "  kappa_3 = (z_bar**3 * phi_bar - z_underbar**3 * phi_underbar) / Phi\n",
      "<ipython-input-474-01f301961bce>:30: RuntimeWarning: invalid value encountered in matmul\n",
      "  grad_beta = -(kappa_0 / sigma) @ X - penalty*2 * beta_alt\n",
      "<ipython-input-474-01f301961bce>:31: RuntimeWarning: invalid value encountered in matmul\n",
      "  grad_alph = -kappa_1 @ X - self.penalty*2 * alph_alt\n",
      "<ipython-input-173-8b762fec5c2c>:6: RuntimeWarning: divide by zero encountered in log\n",
      "  ll = np.log(Phi_bar - Phi_underbar)\n"
     ]
    }
   ],
   "source": [
    "#start_params =  0. * np.ones(22)\n",
    "#start_params[:11] = gpois_res.params[:11] # Warm start with estimates of betas\n",
    "#start_params[11] = -1. # It's really sensitive to this starting value\n",
    "mod_res = mod.fit(method=\"ncg\", maxiter=100, start_params = None, penalty= 1) "
   ]
  },
  {
   "cell_type": "code",
   "execution_count": 479,
   "id": "9812d025-07fb-432e-bd0e-03dbf8b69c04",
   "metadata": {},
   "outputs": [
    {
     "data": {
      "image/png": "[encoded data removed]",
      "text/plain": [
       "<Figure size 864x432 with 1 Axes>"
      ]
     },
     "metadata": {
      "needs_background": "light"
     },
     "output_type": "display_data"
    }
   ],
   "source": [
    "Y_hat = mod_res.predict()\n",
    "plt.plot(data.days, data.y)\n",
    "plt.plot(data.days, Y_hat)\n",
    "plt.show()"
   ]
  },
  {
   "cell_type": "code",
   "execution_count": 480,
   "id": "4e27ac73-6089-4a32-9429-1f96e88f57d8",
   "metadata": {},
   "outputs": [
    {
     "data": {
      "image/png": "[encoded data removed]",
      "text/plain": [
       "<Figure size 864x432 with 1 Axes>"
      ]
     },
     "metadata": {
      "needs_background": "light"
     },
     "output_type": "display_data"
    }
   ],
   "source": [
    "plt.plot(data.days, data.y)\n",
    "plt.plot(data.days, gpois_res.predict())\n",
    "plt.show()"
   ]
  },
  {
   "cell_type": "code",
   "execution_count": null,
   "id": "9467fa7a-eeb4-4f0a-ae06-26f80ef5bff6",
   "metadata": {},
   "outputs": [],
   "source": []
  },
  {
   "cell_type": "code",
   "execution_count": 481,
   "id": "0eb650a0-0554-4ba4-b4f4-d2e1b8a53c06",
   "metadata": {},
   "outputs": [
    {
     "name": "stdout",
     "output_type": "stream",
     "text": [
      "                            MyLatentNormal Results                            \n",
      "==============================================================================\n",
      "Dep. Variable:                      y   Log-Likelihood:                -6490.4\n",
      "Model:                 MyLatentNormal   AIC:                         1.300e+04\n",
      "Method:            Maximum Likelihood   BIC:                         1.306e+04\n",
      "Date:                Thu, 31 Mar 2022                                         \n",
      "Time:                        17:17:54                                         \n",
      "No. Observations:                1095                                         \n",
      "Df Residuals:                    1084                                         \n",
      "Df Model:                          10                                         \n",
      "==================================================================================================\n",
      "                                     coef    std err          z      P>|z|      [0.025      0.975]\n",
      "--------------------------------------------------------------------------------------------------\n",
      "intercept                          5.0373      0.027    188.698      0.000       4.985       5.090\n",
      "days_since_start                   0.3913      0.014     27.846      0.000       0.364       0.419\n",
      "days_since_start_squared          -0.1584      0.014    -11.184      0.000      -0.186      -0.131\n",
      "day_of_week_1                      0.2736      0.043      6.405      0.000       0.190       0.357\n",
      "day_of_week_2                      0.2861      0.048      5.962      0.000       0.192       0.380\n",
      "day_of_week_3                      0.3799      0.049      7.687      0.000       0.283       0.477\n",
      "day_of_week_4                      0.4347      0.053      8.278      0.000       0.332       0.538\n",
      "day_of_week_5                      0.2435      0.043      5.717      0.000       0.160       0.327\n",
      "day_of_week_6                      0.0451      0.039      1.155      0.248      -0.031       0.122\n",
      "seasonality_cos                    0.1792      0.019      9.480      0.000       0.142       0.216\n",
      "seasonality_sin                   -0.0768      0.019     -3.942      0.000      -0.115      -0.039\n",
      "intercept_alpha                   -1.0620      0.056    -18.803      0.000      -1.173      -0.951\n",
      "days_since_start_alpha            -0.1997      0.022     -8.888      0.000      -0.244      -0.156\n",
      "days_since_start_squared_alpha    -0.0587      0.022     -2.717      0.007      -0.101      -0.016\n",
      "day_of_week_1_alpha                0.2649      0.080      3.315      0.001       0.108       0.422\n",
      "day_of_week_2_alpha                0.4348      0.080      5.458      0.000       0.279       0.591\n",
      "day_of_week_3_alpha                0.4718      0.080      5.915      0.000       0.315       0.628\n",
      "day_of_week_4_alpha                0.5589      0.080      7.029      0.000       0.403       0.715\n",
      "day_of_week_5_alpha                0.2563      0.080      3.214      0.001       0.100       0.413\n",
      "day_of_week_6_alpha                0.1136      0.080      1.427      0.154      -0.042       0.270\n",
      "seasonality_cos_alpha              0.1918      0.030      6.393      0.000       0.133       0.251\n",
      "seasonality_sin_alpha             -0.0955      0.032     -2.951      0.003      -0.159      -0.032\n",
      "==================================================================================================\n",
      "True Beta: [ 5.    0.4  -0.17  0.33  0.36  0.4   0.39  0.26  0.07  0.2  -0.1 ]\n",
      "True Alpha: [-1.   -0.2  -0.03  0.33  0.36  0.4   0.39  0.26  0.07  0.16 -0.05]\n"
     ]
    }
   ],
   "source": [
    "print(mod_res.summary())\n",
    "print(f\"True Beta: {data.beta}\")\n",
    "print(f\"True Alpha: {data.alpha}\")"
   ]
  },
  {
   "cell_type": "code",
   "execution_count": null,
   "id": "242eaffc-f8f2-41d4-8314-d262b12cb712",
   "metadata": {},
   "outputs": [],
   "source": []
  },
  {
   "cell_type": "code",
   "execution_count": 306,
   "id": "44d949af",
   "metadata": {},
   "outputs": [
    {
     "data": {
      "text/plain": [
       "array([1239.40909447, 1169.52333052, 1111.64149088,  864.30006269,\n",
       "        672.26168113,  533.12565814,  488.33293005,  379.91785823,\n",
       "        277.77613696,    7.36287204,   21.80117537,  220.94008611,\n",
       "         57.09792013,   68.82228866,   83.88336387,  104.34541364,\n",
       "        112.89569071,  153.64095429,  161.01961849,  155.23095091,\n",
       "        158.95180193,  157.82744299])"
      ]
     },
     "execution_count": 306,
     "metadata": {},
     "output_type": "execute_result"
    }
   ],
   "source": [
    "# Negative Hessian is PD at optimal values\n",
    "starting_vals = np.array([ 5., 0.4, -0.17, 0.33, 0.36, 0.4, 0.39, 0.26, 0.07, 0.2, -0.1, -1., -0.2, -0.03, 0.33, 0.36, 0.4, 0.39, 0.26, 0.07, 0.16, -0.05])\n",
    "starting_vals = np.array([ 5., 0.4, -0.17, 0.33, 0.36, 0.4, 0.39, 0.26, 0.07, 0.2, -0.1, 0, 0, 0, 0, 0, 0, 0, 0, 0, 0, 0])\n",
    "np.linalg.eigvals(-mod.hessian(starting_vals))"
   ]
  },
  {
   "cell_type": "code",
   "execution_count": 307,
   "id": "08035275-3ccf-4e16-b729-a8d3dba209ac",
   "metadata": {},
   "outputs": [
    {
     "data": {
      "text/plain": [
       "{'fopt': 5.92970640834016,\n",
       " 'fcalls': 168,\n",
       " 'gcalls': 167,\n",
       " 'warnflag': 0,\n",
       " 'converged': True}"
      ]
     },
     "execution_count": 307,
     "metadata": {},
     "output_type": "execute_result"
    }
   ],
   "source": [
    "mod_res.mle_retvals"
   ]
  },
  {
   "cell_type": "code",
   "execution_count": 483,
   "id": "3b34786b-2413-4e61-bf6a-05e7edcd4f38",
   "metadata": {},
   "outputs": [
    {
     "name": "stderr",
     "output_type": "stream",
     "text": [
      "/usr/local/anaconda/lib/python3.8/site-packages/statsmodels/base/model.py:566: ConvergenceWarning: Maximum Likelihood optimization failed to converge. Check mle_retvals\n",
      "  warnings.warn(\"Maximum Likelihood optimization failed to \"\n"
     ]
    },
    {
     "data": {
      "text/plain": [
       "array([ 5.04019304,  0.39188427, -0.15317003,  0.25720121,  0.25636979,\n",
       "        0.37518375,  0.43729665,  0.24483793,  0.04732622,  0.17755736,\n",
       "       -0.07140271, -1.09248815, -0.20357987, -0.05530052,  0.28828822,\n",
       "        0.44055755,  0.52900676,  0.55672947,  0.24306557,  0.12499398,\n",
       "        0.19445223, -0.08947347])"
      ]
     },
     "execution_count": 483,
     "metadata": {},
     "output_type": "execute_result"
    }
   ],
   "source": [
    "bs = mod_res.bootstrap(nrep=10, method=\"cg\", store = 0, disp = 0) # we can bootstrap SE\n",
    "bs[0] #mean estimates"
   ]
  },
  {
   "cell_type": "code",
   "execution_count": null,
   "id": "dd14c51a-8f1a-4ac1-b09d-9d9e0b2d11f4",
   "metadata": {},
   "outputs": [],
   "source": []
  },
  {
   "cell_type": "code",
   "execution_count": null,
   "id": "cdb5284a-6a60-4247-8c01-8c86f65b394f",
   "metadata": {},
   "outputs": [],
   "source": []
  },
  {
   "cell_type": "code",
   "execution_count": null,
   "id": "d11b1d54-9337-4286-b1ca-e6abce494bfd",
   "metadata": {},
   "outputs": [],
   "source": []
  }
 ],
 "metadata": {
  "kernelspec": {
   "display_name": "Python 3",
   "language": "python",
   "name": "python3"
  },
  "language_info": {
   "codemirror_mode": {
    "name": "ipython",
    "version": 3
   },
   "file_extension": ".py",
   "mimetype": "text/x-python",
   "name": "python",
   "nbconvert_exporter": "python",
   "pygments_lexer": "ipython3",
   "version": "3.8.8"
  }
 },
 "nbformat": 4,
 "nbformat_minor": 5
}
