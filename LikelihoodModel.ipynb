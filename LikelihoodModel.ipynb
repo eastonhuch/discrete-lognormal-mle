{
 "cells": [
  {
   "cell_type": "code",
   "execution_count": 1,
   "id": "552c9f4f-2d34-4e8a-ab05-7adc16c964b6",
   "metadata": {},
   "outputs": [],
   "source": [
    "import pandas as pd\n",
    "import numpy as np\n",
    "from scipy import stats\n",
    "from utils import generate_data\n",
    "import matplotlib.pyplot as plt\n",
    "import statsmodels.api as sm\n",
    "from statsmodels.base.model import GenericLikelihoodModel"
   ]
  },
  {
   "cell_type": "code",
   "execution_count": 2,
   "id": "dbdb0a23-deda-4aef-8c8e-1a013baf5b0d",
   "metadata": {},
   "outputs": [],
   "source": [
    "np.random.seed(1)\n",
    "data = generate_data()"
   ]
  },
  {
   "cell_type": "code",
   "execution_count": 3,
   "id": "056b6b86-fb1e-4aac-ad31-7c0cceceef0b",
   "metadata": {},
   "outputs": [
    {
     "data": {
      "text/html": [
       "<div>\n",
       "<style scoped>\n",
       "    .dataframe tbody tr th:only-of-type {\n",
       "        vertical-align: middle;\n",
       "    }\n",
       "\n",
       "    .dataframe tbody tr th {\n",
       "        vertical-align: top;\n",
       "    }\n",
       "\n",
       "    .dataframe thead th {\n",
       "        text-align: right;\n",
       "    }\n",
       "</style>\n",
       "<table border=\"1\" class=\"dataframe\">\n",
       "  <thead>\n",
       "    <tr style=\"text-align: right;\">\n",
       "      <th></th>\n",
       "      <th>intercept</th>\n",
       "      <th>days_since_start</th>\n",
       "      <th>days_since_start_squared</th>\n",
       "      <th>day_of_week_1</th>\n",
       "      <th>day_of_week_2</th>\n",
       "      <th>day_of_week_3</th>\n",
       "      <th>day_of_week_4</th>\n",
       "      <th>day_of_week_5</th>\n",
       "      <th>day_of_week_6</th>\n",
       "      <th>seasonality_cos</th>\n",
       "      <th>seasonality_sin</th>\n",
       "    </tr>\n",
       "  </thead>\n",
       "  <tbody>\n",
       "    <tr>\n",
       "      <th>0</th>\n",
       "      <td>1.0</td>\n",
       "      <td>-1.729679</td>\n",
       "      <td>2.228932</td>\n",
       "      <td>0</td>\n",
       "      <td>0</td>\n",
       "      <td>0</td>\n",
       "      <td>0</td>\n",
       "      <td>0</td>\n",
       "      <td>1</td>\n",
       "      <td>0.999852</td>\n",
       "      <td>0.017213</td>\n",
       "    </tr>\n",
       "    <tr>\n",
       "      <th>1</th>\n",
       "      <td>1.0</td>\n",
       "      <td>-1.726517</td>\n",
       "      <td>2.216707</td>\n",
       "      <td>0</td>\n",
       "      <td>0</td>\n",
       "      <td>0</td>\n",
       "      <td>0</td>\n",
       "      <td>0</td>\n",
       "      <td>0</td>\n",
       "      <td>0.999407</td>\n",
       "      <td>0.034422</td>\n",
       "    </tr>\n",
       "    <tr>\n",
       "      <th>2</th>\n",
       "      <td>1.0</td>\n",
       "      <td>-1.723355</td>\n",
       "      <td>2.204505</td>\n",
       "      <td>1</td>\n",
       "      <td>0</td>\n",
       "      <td>0</td>\n",
       "      <td>0</td>\n",
       "      <td>0</td>\n",
       "      <td>0</td>\n",
       "      <td>0.998667</td>\n",
       "      <td>0.051620</td>\n",
       "    </tr>\n",
       "    <tr>\n",
       "      <th>3</th>\n",
       "      <td>1.0</td>\n",
       "      <td>-1.720193</td>\n",
       "      <td>2.192325</td>\n",
       "      <td>0</td>\n",
       "      <td>1</td>\n",
       "      <td>0</td>\n",
       "      <td>0</td>\n",
       "      <td>0</td>\n",
       "      <td>0</td>\n",
       "      <td>0.997630</td>\n",
       "      <td>0.068802</td>\n",
       "    </tr>\n",
       "    <tr>\n",
       "      <th>4</th>\n",
       "      <td>1.0</td>\n",
       "      <td>-1.717031</td>\n",
       "      <td>2.180168</td>\n",
       "      <td>0</td>\n",
       "      <td>0</td>\n",
       "      <td>1</td>\n",
       "      <td>0</td>\n",
       "      <td>0</td>\n",
       "      <td>0</td>\n",
       "      <td>0.996298</td>\n",
       "      <td>0.085965</td>\n",
       "    </tr>\n",
       "  </tbody>\n",
       "</table>\n",
       "</div>"
      ],
      "text/plain": [
       "   intercept  days_since_start  days_since_start_squared  day_of_week_1  \\\n",
       "0        1.0         -1.729679                  2.228932              0   \n",
       "1        1.0         -1.726517                  2.216707              0   \n",
       "2        1.0         -1.723355                  2.204505              1   \n",
       "3        1.0         -1.720193                  2.192325              0   \n",
       "4        1.0         -1.717031                  2.180168              0   \n",
       "\n",
       "   day_of_week_2  day_of_week_3  day_of_week_4  day_of_week_5  day_of_week_6  \\\n",
       "0              0              0              0              0              1   \n",
       "1              0              0              0              0              0   \n",
       "2              0              0              0              0              0   \n",
       "3              1              0              0              0              0   \n",
       "4              0              1              0              0              0   \n",
       "\n",
       "   seasonality_cos  seasonality_sin  \n",
       "0         0.999852         0.017213  \n",
       "1         0.999407         0.034422  \n",
       "2         0.998667         0.051620  \n",
       "3         0.997630         0.068802  \n",
       "4         0.996298         0.085965  "
      ]
     },
     "execution_count": 3,
     "metadata": {},
     "output_type": "execute_result"
    }
   ],
   "source": [
    "data.x_df.head()"
   ]
  },
  {
   "cell_type": "code",
   "execution_count": 4,
   "id": "7aa5b237-d566-4781-a50b-a2ab861348dc",
   "metadata": {},
   "outputs": [],
   "source": [
    "gpois_mdl = sm.GeneralizedPoisson(data.y, data.x_df)"
   ]
  },
  {
   "cell_type": "code",
   "execution_count": 5,
   "id": "71316fd4-27e3-49c3-ba2f-7cc22c217c65",
   "metadata": {},
   "outputs": [
    {
     "name": "stdout",
     "output_type": "stream",
     "text": [
      "Optimization terminated successfully.\n",
      "         Current function value: 6.042689\n",
      "         Iterations: 20\n",
      "         Function evaluations: 23\n",
      "         Gradient evaluations: 23\n"
     ]
    }
   ],
   "source": [
    "gpois_res = gpois_mdl.fit()"
   ]
  },
  {
   "cell_type": "code",
   "execution_count": 6,
   "id": "327af9b7-9a64-4f5f-9a67-62186824d106",
   "metadata": {},
   "outputs": [
    {
     "name": "stdout",
     "output_type": "stream",
     "text": [
      "                       Results: GeneralizedPoisson\n",
      "=========================================================================\n",
      "Model:                 GeneralizedPoisson  Pseudo R-squared:  0.046      \n",
      "Dependent Variable:    y                   AIC:               13257.4897 \n",
      "Date:                  2022-03-31 14:11    BIC:               13317.4718 \n",
      "No. Observations:      1095                Log-Likelihood:    -6616.7    \n",
      "Df Model:              10                  LL-Null:           -6938.4    \n",
      "Df Residuals:          1084                LLR p-value:       9.1750e-132\n",
      "Converged:             1.0000              Scale:             1.0000     \n",
      "-------------------------------------------------------------------------\n",
      "                          Coef.  Std.Err.    z     P>|z|   [0.025  0.975]\n",
      "-------------------------------------------------------------------------\n",
      "intercept                 5.2691   0.0390 135.0435 0.0000  5.1927  5.3456\n",
      "days_since_start          0.3443   0.0149  23.0411 0.0000  0.3150  0.3736\n",
      "days_since_start_squared -0.1218   0.0140  -8.7024 0.0000 -0.1493 -0.0944\n",
      "day_of_week_1             0.1972   0.0513   3.8433 0.0001  0.0966  0.2978\n",
      "day_of_week_2             0.1864   0.0517   3.6085 0.0003  0.0852  0.2876\n",
      "day_of_week_3             0.2741   0.0509   5.3840 0.0000  0.1743  0.3738\n",
      "day_of_week_4             0.2891   0.0509   5.6839 0.0000  0.1894  0.3887\n",
      "day_of_week_5             0.1664   0.0516   3.2239 0.0013  0.0652  0.2675\n",
      "day_of_week_6             0.0225   0.0527   0.4267 0.6696 -0.0809  0.1259\n",
      "seasonality_cos           0.1196   0.0190   6.2817 0.0000  0.0823  0.1569\n",
      "seasonality_sin          -0.0527   0.0199  -2.6504 0.0080 -0.0917 -0.0137\n",
      "alpha                     7.2742   0.2190  33.2124 0.0000  6.8449  7.7035\n",
      "=========================================================================\n",
      "\n"
     ]
    }
   ],
   "source": [
    "print(gpois_res.summary2())"
   ]
  },
  {
   "cell_type": "markdown",
   "id": "f575101f-9321-4dbb-87ca-480d3ddabfd6",
   "metadata": {},
   "source": [
    "## Extend Generic Likelihood Model"
   ]
  },
  {
   "cell_type": "code",
   "execution_count": 7,
   "id": "8a77353f-b154-45db-b10d-7135652f01ba",
   "metadata": {},
   "outputs": [],
   "source": [
    "def _ll_latentnorm(y, X, beta, alph):\n",
    "    mu = (np.dot(X, beta)) # Should we exponentiate this??\n",
    "    sigma = np.exp(np.dot(X, alph))\n",
    "    Phi_bar = stats.norm(mu, sigma).cdf(np.log1p(y))\n",
    "    Phi_underbar = stats.norm(mu, sigma).cdf(np.log(y))\n",
    "    ll = np.log(Phi_bar - Phi_underbar)\n",
    "    #print(Phi_bar.sum())\n",
    "    #print(Phi_underbar.sum())\n",
    "    #print(ll.sum())\n",
    "    return ll\n",
    "\n",
    "def _gradutils(y, X, beta, alph):\n",
    "    mu = (np.dot(X, beta)) # Should we exponentiate this??\n",
    "    sigma = np.exp(np.dot(X, alph))\n",
    "\n",
    "    z_bar = (np.log1p(y) - mu) / sigma \n",
    "    z_underbar = (np.log(y) - mu) / sigma\n",
    "\n",
    "    Phi_bar = stats.norm.cdf(z_bar)\n",
    "    Phi_underbar = stats.norm.cdf(z_underbar)\n",
    "    Phi  = Phi_bar - Phi_underbar\n",
    "\n",
    "    phi_bar = stats.norm.pdf(z_bar)\n",
    "    phi_underbar = stats.norm.pdf(z_underbar)\n",
    "    phi = phi_bar - phi_underbar\n",
    "    \n",
    "    kappa_0 = phi / Phi\n",
    "    kappa_1 = (z_bar * phi_bar - z_underbar * phi_underbar) / Phi\n",
    "    kappa_2 = (z_bar**2 * phi_bar - z_underbar**2 * phi_underbar) / Phi\n",
    "    kappa_3 = (z_bar**3 * phi_bar - z_underbar**3 * phi_underbar) / Phi\n",
    "    \n",
    "    return kappa_0, kappa_1, kappa_2, kappa_3, mu, sigma\n",
    "    \n",
    "def _vec_matrix_multiply(a, B):\n",
    "    return np.apply_along_axis(lambda x: x * a, 0, B)"
   ]
  },
  {
   "cell_type": "code",
   "execution_count": 53,
   "id": "610c86ae-73a3-44b8-8464-213ecdd8db55",
   "metadata": {},
   "outputs": [],
   "source": [
    "penalty = 1.\n",
    "\n",
    "class MyLatentNormal(GenericLikelihoodModel):\n",
    "    def __init__(self, endog, exog, **kwds):\n",
    "        super(MyLatentNormal, self).__init__(endog, exog, **kwds)\n",
    "        self.nparams = 22\n",
    "        \n",
    "        \n",
    "    def nloglikeobs(self, params):\n",
    "        exog = self.exog\n",
    "        endog = self.endog\n",
    "        beta = params[:11] #first 11 are for mu\n",
    "        alph = params[11:] #last 11 are for sigma\n",
    "        ll = _ll_latentnorm(endog, exog, beta, alph)\n",
    "        params_alt = params.copy()\n",
    "        params_alt[0] = 0.\n",
    "#         params_alt[11] = 0.\n",
    "        return -ll + penalty*np.sum(params_alt**2)\n",
    "    \n",
    "    def score(self, params):\n",
    "        y = self.endog\n",
    "        X = self.exog\n",
    "        beta = params[:11] #first 11 are for mu\n",
    "        alph = params[11:] #last 11 are for sigma\n",
    "        \n",
    "        kappa_0, kappa_1, kappa_2, kappa_3, mu, sigma = _gradutils(y, X, beta, alph)\n",
    "        \n",
    "        beta_alt = beta.copy()\n",
    "        beta_alt[0] = 0\n",
    "        alph_alt = alph.copy()\n",
    "#         alph_alt[0] = 0.\n",
    "        \n",
    "        grad_beta = -(kappa_0 / sigma) @ X - penalty*2 * beta_alt\n",
    "        grad_alph = -kappa_1 @ X - penalty*2 * alph_alt\n",
    "        \n",
    "        return np.append(grad_beta, grad_alph)\n",
    "    \n",
    "    def hessian(self, params):\n",
    "        y = self.endog\n",
    "        X = self.exog\n",
    "        beta = params[:11] #first 11 are for mu\n",
    "        alph = params[11:] #last 11 are for sigma\n",
    "        \n",
    "        kappa_0, kappa_1, kappa_2, kappa_3, mu, sigma = _gradutils(y, X, beta, alph)\n",
    "        \n",
    "        #xx = np.einsum('ij,ij-> i', X, X) # row-wise dot product?\n",
    "        k_beta = (kappa_0**2 + kappa_1) / sigma**2\n",
    "        k_alph = kappa_1 * (kappa_1 - 1) + kappa_3\n",
    "        k_beta_alph = (kappa_2 + kappa_0*(kappa_1 - 1)) / sigma\n",
    "        H_beta = np.zeros([11, 11])\n",
    "        H_alph = np.zeros([11, 11])\n",
    "        H_beta_alph = np.zeros([11, 11])\n",
    "                  \n",
    "        for i in range(X.shape[0]):\n",
    "            x = X[i]\n",
    "            xxT = np.outer(x, x)\n",
    "            H_beta -= k_beta[i] * xxT\n",
    "            H_alph -= k_alph[i] * xxT\n",
    "            H_beta_alph -= k_beta_alph[i] * xxT\n",
    "        \n",
    "        H_all = np.block([[H_beta, H_beta_alph], [H_beta_alph.T, H_alph]]) # 22 x 22\n",
    "        penalty_matrix = penalty*2 * np.eye(22)\n",
    "        penalty_matrix[0, 0] = 0.\n",
    "#         penalty_matrix[11, 11] = 0.\n",
    "\n",
    "        return H_all - penalty_matrix\n",
    "        \n",
    "    \n",
    "    def fit(self, start_params=None, maxiter=10000, maxfun=5000, **kwds):\n",
    "        if start_params is None:\n",
    "            # Reasonable starting values\n",
    "            start_params = np.zeros(self.nparams)\n",
    "            start_params[0] = np.log(np.mean(self.endog)) # beta\n",
    "        return super(MyLatentNormal, self).fit(start_params=start_params,\n",
    "                                     maxiter=maxiter, maxfun=maxfun,\n",
    "                                     **kwds)"
   ]
  },
  {
   "cell_type": "code",
   "execution_count": 54,
   "id": "c6f973da-0a98-4140-8646-cb61670ac396",
   "metadata": {},
   "outputs": [],
   "source": [
    "names = list(data.x_df)\n",
    "names_alpha = [s + \"_alpha\" for s in names]"
   ]
  },
  {
   "cell_type": "code",
   "execution_count": 55,
   "id": "97fe20d4-dda8-4612-9b89-d2734d05e061",
   "metadata": {},
   "outputs": [],
   "source": [
    "mod = MyLatentNormal(data.y, data.x_df, extra_params_names=names_alpha)"
   ]
  },
  {
   "cell_type": "code",
   "execution_count": 57,
   "id": "5c2486e0-d829-471b-b905-b2d1323d7fc3",
   "metadata": {},
   "outputs": [
    {
     "name": "stdout",
     "output_type": "stream",
     "text": [
      "Optimization terminated successfully.\n",
      "         Current function value: 8.787365\n",
      "         Iterations 8\n"
     ]
    }
   ],
   "source": [
    "# start_params = np.zeros(22)\n",
    "# start_params[:11] = gpois_res.params[:11] # Warm start with estimates of betas\n",
    "# start_params[11] = -1. # It's really sensitive to this starting value\n",
    "mod_res = mod.fit(method=\"newton\", maxiter=100, start_params=start_params) "
   ]
  },
  {
   "cell_type": "code",
   "execution_count": 34,
   "id": "0eb650a0-0554-4ba4-b4f4-d2e1b8a53c06",
   "metadata": {},
   "outputs": [
    {
     "name": "stdout",
     "output_type": "stream",
     "text": [
      "                            MyLatentNormal Results                            \n",
      "==============================================================================\n",
      "Dep. Variable:                      y   Log-Likelihood:                -8013.0\n",
      "Model:                 MyLatentNormal   AIC:                         1.605e+04\n",
      "Method:            Maximum Likelihood   BIC:                         1.610e+04\n",
      "Date:                Thu, 31 Mar 2022                                         \n",
      "Time:                        14:17:34                                         \n",
      "No. Observations:                1095                                         \n",
      "Df Residuals:                    1084                                         \n",
      "Df Model:                          10                                         \n",
      "==================================================================================================\n",
      "                                     coef    std err          z      P>|z|      [0.025      0.975]\n",
      "--------------------------------------------------------------------------------------------------\n",
      "intercept                          4.6898        nan        nan        nan         nan         nan\n",
      "days_since_start                   0.5433        nan        nan        nan         nan         nan\n",
      "days_since_start_squared          -0.2714        nan        nan        nan         nan         nan\n",
      "day_of_week_1                      0.1081        nan        nan        nan         nan         nan\n",
      "day_of_week_2                      0.1290        nan        nan        nan         nan         nan\n",
      "day_of_week_3                      0.2168        nan        nan        nan         nan         nan\n",
      "day_of_week_4                      0.2322        nan        nan        nan         nan         nan\n",
      "day_of_week_5                      0.0822        nan        nan        nan         nan         nan\n",
      "day_of_week_6                     -0.0900        nan        nan        nan         nan         nan\n",
      "seasonality_cos                    0.2037        nan        nan        nan         nan         nan\n",
      "seasonality_sin                   -0.1344        nan        nan        nan         nan         nan\n",
      "intercept_alpha                   -0.4209        nan        nan        nan         nan         nan\n",
      "days_since_start_alpha            -0.3915        nan        nan        nan         nan         nan\n",
      "days_since_start_squared_alpha     0.0233        nan        nan        nan         nan         nan\n",
      "day_of_week_1_alpha                0.0578        nan        nan        nan         nan         nan\n",
      "day_of_week_2_alpha                0.1015        nan        nan        nan         nan         nan\n",
      "day_of_week_3_alpha                0.1240        nan        nan        nan         nan         nan\n",
      "day_of_week_4_alpha                0.1549        nan        nan        nan         nan         nan\n",
      "day_of_week_5_alpha                0.0691        nan        nan        nan         nan         nan\n",
      "day_of_week_6_alpha                0.0422        nan        nan        nan         nan         nan\n",
      "seasonality_cos_alpha              0.1486        nan        nan        nan         nan         nan\n",
      "seasonality_sin_alpha              0.0228        nan        nan        nan         nan         nan\n",
      "==================================================================================================\n",
      "True Beta: [ 5.    0.4  -0.17  0.33  0.36  0.4   0.39  0.26  0.07  0.2  -0.1 ]\n",
      "True Alpha: [-1.   -0.2  -0.03  0.33  0.36  0.4   0.39  0.26  0.07  0.16 -0.05]\n"
     ]
    }
   ],
   "source": [
    "print(mod_res.summary())\n",
    "print(f\"True Beta: {data.beta}\")\n",
    "print(f\"True Alpha: {data.alpha}\")"
   ]
  },
  {
   "cell_type": "code",
   "execution_count": 17,
   "id": "44d949af",
   "metadata": {},
   "outputs": [
    {
     "data": {
      "text/plain": [
       "array([1239.40909447, 1169.52333052, 1111.64149088,  864.30006269,\n",
       "        672.26168113,  533.12565814,  488.33293005,  379.91785823,\n",
       "        277.77613696,    7.36287204,   21.80117537,  220.94008611,\n",
       "         57.09792013,   68.82228866,   83.88336387,  104.34541364,\n",
       "        112.89569071,  153.64095429,  161.01961849,  155.23095091,\n",
       "        158.95180193,  157.82744299])"
      ]
     },
     "execution_count": 17,
     "metadata": {},
     "output_type": "execute_result"
    }
   ],
   "source": [
    "# Negative Hessian is PD at optimal values\n",
    "starting_vals = np.array([ 5., 0.4, -0.17, 0.33, 0.36, 0.4, 0.39, 0.26, 0.07, 0.2, -0.1, -1., -0.2, -0.03, 0.33, 0.36, 0.4, 0.39, 0.26, 0.07, 0.16, -0.05])\n",
    "starting_vals = np.array([ 5., 0.4, -0.17, 0.33, 0.36, 0.4, 0.39, 0.26, 0.07, 0.2, -0.1, 0, 0, 0, 0, 0, 0, 0, 0, 0, 0, 0])\n",
    "np.linalg.eigvals(-mod.hessian(starting_vals))"
   ]
  },
  {
   "cell_type": "code",
   "execution_count": null,
   "id": "3b34786b-2413-4e61-bf6a-05e7edcd4f38",
   "metadata": {},
   "outputs": [],
   "source": [
    "bs = mod_res.bootstrap(nrep=10, method=\"ncg\", store = 0, disp = 0) # we can bootstrap SE\n",
    "bs[0] #mean estimates\n",
    "bs[1] # se"
   ]
  },
  {
   "cell_type": "code",
   "execution_count": null,
   "id": "dd14c51a-8f1a-4ac1-b09d-9d9e0b2d11f4",
   "metadata": {},
   "outputs": [],
   "source": []
  },
  {
   "cell_type": "code",
   "execution_count": null,
   "id": "cdb5284a-6a60-4247-8c01-8c86f65b394f",
   "metadata": {},
   "outputs": [],
   "source": []
  }
 ],
 "metadata": {
  "kernelspec": {
   "display_name": "Python 3",
   "language": "python",
   "name": "python3"
  },
  "language_info": {
   "codemirror_mode": {
    "name": "ipython",
    "version": 3
   },
   "file_extension": ".py",
   "mimetype": "text/x-python",
   "name": "python",
   "nbconvert_exporter": "python",
   "pygments_lexer": "ipython3",
   "version": "3.8.8"
  }
 },
 "nbformat": 4,
 "nbformat_minor": 5
}
