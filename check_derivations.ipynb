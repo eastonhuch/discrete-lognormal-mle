{
 "cells": [
  {
   "cell_type": "code",
   "execution_count": 1,
   "id": "9ae44212",
   "metadata": {},
   "outputs": [],
   "source": [
    "import numpy as np\n",
    "from scipy.stats import norm\n",
    "import torch\n",
    "from torch.distributions.normal import Normal"
   ]
  },
  {
   "cell_type": "markdown",
   "id": "f5b6e37c",
   "metadata": {},
   "source": [
    "# Gradients"
   ]
  },
  {
   "cell_type": "code",
   "execution_count": 2,
   "id": "f1da8d3d",
   "metadata": {},
   "outputs": [
    {
     "name": "stdout",
     "output_type": "stream",
     "text": [
      "beta: -0.2405138909816742\n",
      "alpha: -0.8877367973327637\n"
     ]
    }
   ],
   "source": [
    "# Gradient from Pytorch\n",
    "zero_tensor = torch.tensor(0.)\n",
    "one_tensor = torch.tensor(1.)\n",
    "w_torch = torch.normal(zero_tensor, one_tensor)\n",
    "x_torch = torch.normal(zero_tensor, one_tensor)\n",
    "y_torch = torch.tensor(1.)\n",
    "alpha_torch = torch.normal(zero_tensor, one_tensor)\n",
    "alpha_torch.requires_grad = True\n",
    "beta_torch = torch.normal(zero_tensor, one_tensor)\n",
    "beta_torch.requires_grad = True\n",
    "mu_torch = x_torch * beta_torch\n",
    "sigma_torch = (w_torch * alpha_torch).exp()\n",
    "normal_dist = Normal(loc=mu_torch, scale=sigma_torch)\n",
    "prob = normal_dist.cdf((y_torch+1).log()) - normal_dist.cdf(y_torch.log())\n",
    "log_prob = prob.log()\n",
    "log_prob.backward()\n",
    "print(f\"beta: {beta_torch.grad}\")\n",
    "print(f\"alpha: {alpha_torch.grad}\")"
   ]
  },
  {
   "cell_type": "code",
   "execution_count": 3,
   "id": "ae583b3b",
   "metadata": {},
   "outputs": [
    {
     "name": "stdout",
     "output_type": "stream",
     "text": [
      "beta: -0.2406954875702194\n",
      "alpha: -0.8879392923399898\n"
     ]
    }
   ],
   "source": [
    "# Numerical derivative\n",
    "w = w_torch.detach().numpy()\n",
    "x = x_torch.detach().numpy()\n",
    "y = y_torch.detach().numpy()\n",
    "alpha = alpha_torch.detach().numpy()\n",
    "beta = beta_torch.detach().numpy()\n",
    "mu = mu_torch.detach().numpy()\n",
    "sigma = sigma_torch.detach().numpy()\n",
    "\n",
    "def log_pmf(y, mu, sigma):\n",
    "    Phi_right = norm.cdf(x=np.log(y+1), loc=mu, scale=sigma)\n",
    "    Phi_left = norm.cdf(x=np.log(y), loc=mu, scale=sigma)\n",
    "    prob = Phi_right - Phi_left\n",
    "    log_prob = np.log(prob)\n",
    "    return log_prob\n",
    "\n",
    "dbeta = 1e-3\n",
    "deriv_beta_numeric = (log_pmf(y, mu + x*dbeta, sigma) - log_pmf(y, mu, sigma)) / dbeta\n",
    "print(f\"beta: {deriv_beta_numeric}\")\n",
    "\n",
    "dalpha = 1e-3\n",
    "deriv_alpha_numeric = (log_pmf(y, mu, sigma * np.exp(w * dalpha)) - log_pmf(y, mu, sigma)) / dalpha\n",
    "print(f\"alpha: {deriv_alpha_numeric}\")"
   ]
  },
  {
   "cell_type": "code",
   "execution_count": 4,
   "id": "c24b05c1",
   "metadata": {},
   "outputs": [
    {
     "name": "stdout",
     "output_type": "stream",
     "text": [
      "beta: -0.240513931713416\n",
      "alpha: -0.8877369317303965\n"
     ]
    }
   ],
   "source": [
    "# Analytical gradient\n",
    "z_bar = (np.log(y+1)-mu)/sigma\n",
    "z_underbar = (np.log(y)-mu)/sigma\n",
    "beta_num = norm.pdf(z_underbar) - norm.pdf(z_bar)\n",
    "beta_den = norm.cdf(z_bar) - norm.cdf(z_underbar)\n",
    "beta_grad = beta_num / beta_den * x / sigma\n",
    "print(f\"beta: {beta_grad}\")\n",
    "\n",
    "# Simple analytical gradient\n",
    "alpha_num = z_underbar * norm.pdf(z_underbar) - z_bar * norm.pdf(z_bar)\n",
    "alpha_den = norm.cdf(z_bar) - norm.cdf(z_underbar)\n",
    "alpha_grad = alpha_num / alpha_den * w\n",
    "print(f\"alpha: {alpha_grad}\")"
   ]
  },
  {
   "cell_type": "code",
   "execution_count": null,
   "id": "38cc7b98",
   "metadata": {},
   "outputs": [],
   "source": []
  }
 ],
 "metadata": {
  "kernelspec": {
   "display_name": "Python 3",
   "language": "python",
   "name": "python3"
  },
  "language_info": {
   "codemirror_mode": {
    "name": "ipython",
    "version": 3
   },
   "file_extension": ".py",
   "mimetype": "text/x-python",
   "name": "python",
   "nbconvert_exporter": "python",
   "pygments_lexer": "ipython3",
   "version": "3.8.8"
  }
 },
 "nbformat": 4,
 "nbformat_minor": 5
}
