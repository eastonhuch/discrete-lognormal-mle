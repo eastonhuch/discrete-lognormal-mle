{
 "cells": [
  {
   "cell_type": "code",
   "execution_count": 28,
   "id": "9ae44212",
   "metadata": {},
   "outputs": [],
   "source": [
    "import numpy as np\n",
    "from scipy.stats import norm\n",
    "import torch\n",
    "from torch.distributions.normal import Normal"
   ]
  },
  {
   "cell_type": "markdown",
   "id": "1302a805",
   "metadata": {},
   "source": [
    "# Gradients /Hessians taking derivative wrt $\\beta$ first"
   ]
  },
  {
   "cell_type": "code",
   "execution_count": 29,
   "id": "a4246f68",
   "metadata": {},
   "outputs": [],
   "source": [
    "# Gradient from Pytorch\n",
    "zero_tensor = torch.tensor(0.)\n",
    "one_tensor = torch.tensor(1.)\n",
    "w_torch = torch.normal(zero_tensor, one_tensor)\n",
    "x_torch = torch.normal(zero_tensor, one_tensor)\n",
    "y_torch = torch.tensor(1.)\n",
    "alpha_torch = torch.normal(zero_tensor, one_tensor)\n",
    "alpha_torch.requires_grad = True\n",
    "beta_torch = torch.normal(zero_tensor, one_tensor)\n",
    "beta_torch.requires_grad = True\n",
    "mu_torch = x_torch * beta_torch\n",
    "mu_torch.retain_grad()\n",
    "sigma_torch = (w_torch * alpha_torch).exp()\n",
    "sigma_torch.retain_grad()\n",
    "z_bar = ((y_torch+1).log() - mu_torch) / sigma_torch\n",
    "z_underbar = ((y_torch).log() - mu_torch) / sigma_torch\n",
    "normal_dist = Normal(loc=0, scale=1)\n",
    "Phi_bar = normal_dist.cdf(z_bar)\n",
    "Phi_underbar = normal_dist.cdf(z_underbar)\n",
    "pi = Phi_bar - Phi_underbar\n",
    "log_pi = pi.log()\n",
    "phi_bar = normal_dist.log_prob(z_bar).exp()\n",
    "phi_underbar = normal_dist.log_prob(z_underbar).exp()\n",
    "kappa_0 = (phi_bar - phi_underbar) / pi\n",
    "kappa_1 = (z_bar * phi_bar - z_underbar * phi_underbar) / pi\n",
    "kappa_2 = (z_bar**2 * phi_bar - z_underbar**2 * phi_underbar) / pi\n",
    "kappa_3 = (z_bar**3 * phi_bar - z_underbar**3 * phi_underbar) / pi\n",
    "grad_beta = -kappa_0*x_torch/sigma_torch\n",
    "\n",
    "# Uncomment to check gradient of log(pi) wrt beta\n",
    "# log_pi.backward()\n",
    "# print(f\"analytical: {grad_beta}\")\n",
    "# print(f\"torch: {beta_torch.grad}\")\n",
    "\n",
    "grad_beta.backward()"
   ]
  },
  {
   "cell_type": "code",
   "execution_count": 30,
   "id": "59519318",
   "metadata": {},
   "outputs": [
    {
     "name": "stdout",
     "output_type": "stream",
     "text": [
      "beta^2 torch: -0.2558543086051941\n",
      "beta^2 analytical: -0.25585436820983887\n"
     ]
    }
   ],
   "source": [
    "print(f\"beta^2 torch: {beta_torch.grad}\")\n",
    "hessian_beta = -x_torch**2/sigma_torch**2 * (kappa_0**2 + kappa_1)\n",
    "print(f\"beta^2 analytical: {hessian_beta}\")"
   ]
  },
  {
   "cell_type": "code",
   "execution_count": 31,
   "id": "69c337a6",
   "metadata": {},
   "outputs": [
    {
     "name": "stdout",
     "output_type": "stream",
     "text": [
      "beta alpha torch: -0.0679616630077362\n",
      "beta alpha analytical: -0.06796164810657501\n"
     ]
    }
   ],
   "source": [
    "print(f\"beta alpha torch: {alpha_torch.grad}\")\n",
    "hessian_beta_alpha = -1/sigma_torch * x_torch * w_torch * (kappa_2 + kappa_0 * (kappa_1 - 1))\n",
    "print(f\"beta alpha analytical: {hessian_beta_alpha}\")"
   ]
  },
  {
   "cell_type": "markdown",
   "id": "9939e7a2",
   "metadata": {},
   "source": [
    "# Gradients /Hessians taking derivative wrt $\\alpha$ first"
   ]
  },
  {
   "cell_type": "code",
   "execution_count": 23,
   "id": "819c39dd",
   "metadata": {},
   "outputs": [
    {
     "name": "stdout",
     "output_type": "stream",
     "text": [
      "tensor(-5.3592)\n",
      "tensor(-5.3592, grad_fn=<MulBackward0>)\n"
     ]
    }
   ],
   "source": [
    "# Gradient from Pytorch\n",
    "zero_tensor = torch.tensor(0.)\n",
    "one_tensor = torch.tensor(1.)\n",
    "w_torch = torch.normal(zero_tensor, one_tensor)\n",
    "x_torch = torch.normal(zero_tensor, one_tensor)\n",
    "y_torch = torch.tensor(1.)\n",
    "alpha_torch = torch.normal(zero_tensor, one_tensor)\n",
    "alpha_torch.requires_grad = True\n",
    "beta_torch = torch.normal(zero_tensor, one_tensor)\n",
    "beta_torch.requires_grad = True\n",
    "mu_torch = x_torch * beta_torch\n",
    "mu_torch.retain_grad()\n",
    "sigma_torch = (w_torch * alpha_torch).exp()\n",
    "sigma_torch.retain_grad()\n",
    "z_bar = ((y_torch+1).log() - mu_torch) / sigma_torch\n",
    "z_underbar = ((y_torch).log() - mu_torch) / sigma_torch\n",
    "normal_dist = Normal(loc=0, scale=1)\n",
    "Phi_bar = normal_dist.cdf(z_bar)\n",
    "Phi_underbar = normal_dist.cdf(z_underbar)\n",
    "pi = Phi_bar - Phi_underbar\n",
    "log_pi = pi.log()\n",
    "phi_bar = normal_dist.log_prob(z_bar).exp()\n",
    "phi_underbar = normal_dist.log_prob(z_underbar).exp()\n",
    "kappa_0 = (phi_bar - phi_underbar) / pi\n",
    "kappa_1 = (z_bar * phi_bar - z_underbar * phi_underbar) / pi\n",
    "kappa_2 = (z_bar**2 * phi_bar - z_underbar**2 * phi_underbar) / pi\n",
    "kappa_3 = (z_bar**3 * phi_bar - z_underbar**3 * phi_underbar) / pi\n",
    "grad_alpha = -kappa_1*w_torch\n",
    "\n",
    "# Uncomment to check gradient of log(pi) wrt beta\n",
    "# log_pi.backward()\n",
    "# print(f\"analytical: {grad_alpha}\")\n",
    "# print(f\"torch: {alpha_torch.grad}\")\n",
    "\n",
    "grad_alpha.backward()\n",
    "\n",
    "print(alpha_torch.grad)\n",
    "print(-(kappa_1 * (kappa_1 - 1) + kappa_3) * w_torch**2)"
   ]
  }
 ],
 "metadata": {
  "kernelspec": {
   "display_name": "Python 3",
   "language": "python",
   "name": "python3"
  },
  "language_info": {
   "codemirror_mode": {
    "name": "ipython",
    "version": 3
   },
   "file_extension": ".py",
   "mimetype": "text/x-python",
   "name": "python",
   "nbconvert_exporter": "python",
   "pygments_lexer": "ipython3",
   "version": "3.8.8"
  }
 },
 "nbformat": 4,
 "nbformat_minor": 5
}
